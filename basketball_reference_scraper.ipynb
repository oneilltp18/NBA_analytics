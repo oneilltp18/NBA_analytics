{
 "cells": [
  {
   "cell_type": "code",
   "execution_count": 3,
   "metadata": {
    "collapsed": true
   },
   "outputs": [],
   "source": [
    "import pandas as pd\n",
    "import numpy as np\n",
    "import requests\n",
    "import urllib\n",
    "from bs4 import BeautifulSoup"
   ]
  },
  {
   "cell_type": "code",
   "execution_count": 4,
   "metadata": {
    "collapsed": false
   },
   "outputs": [],
   "source": [
    "base = ('http://www.basketball-reference.com/leagues/NBA_2017_totals.html')\n",
    "\n",
    "#15492 players\n",
    "#base = ('http://www.basketball-reference.com/play-index/psl_finder.cgi?request=1&match=single&type=totals&per_minute_base=36&per_poss_base=100&lg_id=NBA&is_playoffs=N&year_min=1980&year_max=&franch_id=&season_start=1&season_end=-1&age_min=0&age_max=99&shoot_hand=&height_min=0&height_max=99&birth_country_is=Y&birth_country=&birth_state=&college_id=&draft_year=&is_active=&debut_yr_aba_start=&debut_yr_aba_end=&debut_yr_nba_start=&debut_yr_nba_end=&is_hof=&is_as=&as_comp=gt&as_val=&award=&pos_is_g=Y&pos_is_gf=Y&pos_is_f=Y&pos_is_fg=Y&pos_is_fc=Y&pos_is_c=Y&pos_is_cf=Y&qual=&c1stat=mp_per_g&c1comp=gt&c1val=&c2stat=fg_per_mp&c2comp=gt&c2val=&c3stat=fg_per_poss&c3comp=gt&c3val=&c4stat=fg_pct&c4comp=gt&c4val=&c5stat=&c5comp=&c6mult=0&c6stat=&order_by=g&order_by_asc=&offset=')"
   ]
  },
  {
   "cell_type": "code",
   "execution_count": 5,
   "metadata": {
    "collapsed": true
   },
   "outputs": [],
   "source": [
    "def get_soup(url):\n",
    "    r = requests.get(url)\n",
    "    soup = BeautifulSoup(r.text, 'html.parser')\n",
    "    return soup\n",
    "\n",
    "def next_page(base, player_count):\n",
    "    url = base+str(player_count)\n",
    "    return url\n",
    "\n",
    "def get_rows(soup):\n",
    "    body = soup.findAll('tbody')\n",
    "    rows = body[0].findAll('tr')\n",
    "    return rows\n",
    "\n",
    "def strip_stats(rows):\n",
    "    stats = []\n",
    "    for x in range(0, len(rows)):\n",
    "        player_stats = rows[x].findAll('td')\n",
    "        stats.append([z.text for z in player_stats])\n",
    "    stats = [x for x in stats if x!=[]]\n",
    "    return stats\n",
    "\n",
    "## this will be used to get the stat names of the stats being collected for each player\n",
    "## We will set these as our column names in our created dataframe\n",
    "def get_stat_names(soup):\n",
    "    body = soup.findAll('thead')\n",
    "    row = body[0].findAll('tr')    \n",
    "    stat_names = []\n",
    "    player_stats = row[0].findAll('th')\n",
    "    stat_names.append([z.text for z in player_stats])\n",
    "    return stat_names"
   ]
  },
  {
   "cell_type": "code",
   "execution_count": 6,
   "metadata": {
    "collapsed": true
   },
   "outputs": [],
   "source": [
    "def tot_df_creation(base_url):\n",
    "    ## we will create our initial soup to use to collect the names of our statistics which will turn\n",
    "    ## into the columns of our dataframe\n",
    "    soup = get_soup(base_url)\n",
    "    stat_names = get_stat_names(soup)\n",
    "    \n",
    "    ## this allows us to instantiate our total dataframe with the correct column names which we will\n",
    "    ## append the individual season dataframes to\n",
    "    tot_df = pd.DataFrame(columns = [z for z in stat_names[0][1:]])\n",
    "    \n",
    "    ## this column is not a part of the stats on the webpage but we are collecting it, so we need \n",
    "    ## to instantiate the column as part of total_df\n",
    "    tot_df['Season'] = pd.Series()\n",
    "    return tot_df"
   ]
  },
  {
   "cell_type": "code",
   "execution_count": 7,
   "metadata": {
    "collapsed": true
   },
   "outputs": [],
   "source": [
    "def get_team_link(rows):\n",
    "    link_list = []\n",
    "    ## this will take me through every row of player data and attach a team link as a feature for that player\n",
    "    for x in range(0, len(rows)):\n",
    "        try:\n",
    "            ## this gives me their row of stats on the website so I can see what team they were on\n",
    "            player_stats = rows[x].findAll('td')\n",
    "            ## the team name contains a hyperlink to that team's stats for the year. it is in index\n",
    "            ## position 3, so we will access that location and collect the embedded link\n",
    "            link = 'http://www.basketball-reference.com'+player_stats[3].find('a').get('href')\n",
    "            ## we will append all of our links to a list to then add as a series to our dataframe\n",
    "            link_list.append(link)\n",
    "        \n",
    "        ## If a player was on multiple teams in one season, he has a row of stats for each team he was on,\n",
    "        ## as well as a \"total\" row with all the team rows added together. This total row does NOT have\n",
    "        ## a hyperlink to a team page and raises an attribute error. We will pass the link variable as\n",
    "        ## None in this situation\n",
    "        except AttributeError:\n",
    "            link = None\n",
    "            link_list.append(link)\n",
    "        \n",
    "        ## every 20 or so rows there is a divider row with the stat names which raises an index error,\n",
    "        ## this allows us to pass over those rows\n",
    "        except IndexError:\n",
    "            pass\n",
    "        \n",
    "    return link_list    \n",
    "    "
   ]
  },
  {
   "cell_type": "code",
   "execution_count": 8,
   "metadata": {
    "collapsed": true
   },
   "outputs": [],
   "source": [
    "def get_player_stats(base_url):\n",
    "    ## from start of 3-point era to present day\n",
    "    years = [1980, 1981, 1982, 1983, 1984, 1985, 1986, 1987, 1988, 1989, 1990,\n",
    "             1991, 1992, 1993, 1994, 1995, 1996, 1997, 1998, 1999, 2000, 2001,\n",
    "             2002, 2003, 2004, 2005, 2006, 2007, 2008, 2009, 2010, 2011, 2012,\n",
    "             2013, 2014, 2015, 2016, 2017]\n",
    "    \n",
    "    #instantiate an empty dataframe with the correct columns\n",
    "    tot_df = tot_df_creation(base_url)\n",
    "\n",
    "    ## cycle through the seasons, creating an individual dataframe for each season, then append\n",
    "    ## that dataframe to our total_df\n",
    "    for x in years[:]:\n",
    "        #cycle through url's \n",
    "        base_url = base_url[:48]+str(x)+base_url[52:]\n",
    "        soup = get_soup(base_url)\n",
    "        rows = get_rows(soup)\n",
    "        stats = strip_stats(rows)\n",
    "        stat_names = get_stat_names(soup)\n",
    "        link_series = pd.Series(get_team_link(rows))\n",
    "        \n",
    "        ## Make a dataframe from our collected stats\n",
    "        df = pd.DataFrame(stats, columns = [i for i in stat_names[0][1:]])\n",
    "        ## Add a season column for the season we are currently scraping\n",
    "        df['season'] = x\n",
    "        ## Add a column of the link to that players team page that we created\n",
    "        df['team_link'] = link_series.values\n",
    "        \n",
    "        ## Append the individual dataframe to our total_df\n",
    "        tot_df = tot_df.append(df, ignore_index = True)\n",
    "        \n",
    "        ## Something to keep track of where we are in the process\n",
    "        print \"\\n==========JUST FINISHED %s SEASON==========\\n\" % x\n",
    "    \n",
    "    ## appending dataframes messes with column order - this resorts the columns to original order\n",
    "    tot_df = tot_df[df.columns]\n",
    "    \n",
    "    ## we can filter out rows where there is no team link since those are aggregate rows of player\n",
    "    ## data when they are on multiple teams. We can treat them as individuals and then cumulate their WAR\n",
    "    ## on a per season basis\n",
    "    tot_df = tot_df[tot_df['team_link'].isnull() == False]\n",
    "    \n",
    "    ## this brings the season column to the front of the df - just for viewing purposes\n",
    "    tot_df = tot_df.set_index('season').reset_index()\n",
    "    \n",
    "    return tot_df"
   ]
  },
  {
   "cell_type": "code",
   "execution_count": 9,
   "metadata": {
    "collapsed": false,
    "scrolled": true
   },
   "outputs": [
    {
     "name": "stdout",
     "output_type": "stream",
     "text": [
      "\n",
      "==========JUST FINISHED 1980 SEASON==========\n",
      "\n",
      "\n",
      "==========JUST FINISHED 1981 SEASON==========\n",
      "\n",
      "\n",
      "==========JUST FINISHED 1982 SEASON==========\n",
      "\n",
      "\n",
      "==========JUST FINISHED 1983 SEASON==========\n",
      "\n",
      "\n",
      "==========JUST FINISHED 1984 SEASON==========\n",
      "\n",
      "\n",
      "==========JUST FINISHED 1985 SEASON==========\n",
      "\n",
      "\n",
      "==========JUST FINISHED 1986 SEASON==========\n",
      "\n",
      "\n",
      "==========JUST FINISHED 1987 SEASON==========\n",
      "\n",
      "\n",
      "==========JUST FINISHED 1988 SEASON==========\n",
      "\n",
      "\n",
      "==========JUST FINISHED 1989 SEASON==========\n",
      "\n",
      "\n",
      "==========JUST FINISHED 1990 SEASON==========\n",
      "\n",
      "\n",
      "==========JUST FINISHED 1991 SEASON==========\n",
      "\n",
      "\n",
      "==========JUST FINISHED 1992 SEASON==========\n",
      "\n",
      "\n",
      "==========JUST FINISHED 1993 SEASON==========\n",
      "\n",
      "\n",
      "==========JUST FINISHED 1994 SEASON==========\n",
      "\n",
      "\n",
      "==========JUST FINISHED 1995 SEASON==========\n",
      "\n",
      "\n",
      "==========JUST FINISHED 1996 SEASON==========\n",
      "\n",
      "\n",
      "==========JUST FINISHED 1997 SEASON==========\n",
      "\n",
      "\n",
      "==========JUST FINISHED 1998 SEASON==========\n",
      "\n",
      "\n",
      "==========JUST FINISHED 1999 SEASON==========\n",
      "\n",
      "\n",
      "==========JUST FINISHED 2000 SEASON==========\n",
      "\n",
      "\n",
      "==========JUST FINISHED 2001 SEASON==========\n",
      "\n",
      "\n",
      "==========JUST FINISHED 2002 SEASON==========\n",
      "\n",
      "\n",
      "==========JUST FINISHED 2003 SEASON==========\n",
      "\n",
      "\n",
      "==========JUST FINISHED 2004 SEASON==========\n",
      "\n",
      "\n",
      "==========JUST FINISHED 2005 SEASON==========\n",
      "\n",
      "\n",
      "==========JUST FINISHED 2006 SEASON==========\n",
      "\n",
      "\n",
      "==========JUST FINISHED 2007 SEASON==========\n",
      "\n",
      "\n",
      "==========JUST FINISHED 2008 SEASON==========\n",
      "\n",
      "\n",
      "==========JUST FINISHED 2009 SEASON==========\n",
      "\n",
      "\n",
      "==========JUST FINISHED 2010 SEASON==========\n",
      "\n",
      "\n",
      "==========JUST FINISHED 2011 SEASON==========\n",
      "\n",
      "\n",
      "==========JUST FINISHED 2012 SEASON==========\n",
      "\n",
      "\n",
      "==========JUST FINISHED 2013 SEASON==========\n",
      "\n",
      "\n",
      "==========JUST FINISHED 2014 SEASON==========\n",
      "\n",
      "\n",
      "==========JUST FINISHED 2015 SEASON==========\n",
      "\n",
      "\n",
      "==========JUST FINISHED 2016 SEASON==========\n",
      "\n",
      "\n",
      "==========JUST FINISHED 2017 SEASON==========\n",
      "\n"
     ]
    }
   ],
   "source": [
    "## assign the output of the function to a variable so that it only has to be called once\n",
    "df = get_player_stats(base)"
   ]
  },
  {
   "cell_type": "code",
   "execution_count": 10,
   "metadata": {
    "collapsed": false
   },
   "outputs": [
    {
     "name": "stdout",
     "output_type": "stream",
     "text": [
      "17291\n"
     ]
    },
    {
     "data": {
      "text/html": [
       "<div>\n",
       "<table border=\"1\" class=\"dataframe\">\n",
       "  <thead>\n",
       "    <tr style=\"text-align: right;\">\n",
       "      <th></th>\n",
       "      <th>season</th>\n",
       "      <th>Player</th>\n",
       "      <th>Pos</th>\n",
       "      <th>Age</th>\n",
       "      <th>Tm</th>\n",
       "      <th>G</th>\n",
       "      <th>GS</th>\n",
       "      <th>MP</th>\n",
       "      <th>FG</th>\n",
       "      <th>FGA</th>\n",
       "      <th>...</th>\n",
       "      <th>ORB</th>\n",
       "      <th>DRB</th>\n",
       "      <th>TRB</th>\n",
       "      <th>AST</th>\n",
       "      <th>STL</th>\n",
       "      <th>BLK</th>\n",
       "      <th>TOV</th>\n",
       "      <th>PF</th>\n",
       "      <th>PTS</th>\n",
       "      <th>team_link</th>\n",
       "    </tr>\n",
       "  </thead>\n",
       "  <tbody>\n",
       "    <tr>\n",
       "      <th>0</th>\n",
       "      <td>1980.0</td>\n",
       "      <td>Kareem Abdul-Jabbar*</td>\n",
       "      <td>C</td>\n",
       "      <td>32</td>\n",
       "      <td>LAL</td>\n",
       "      <td>82</td>\n",
       "      <td></td>\n",
       "      <td>3143</td>\n",
       "      <td>835</td>\n",
       "      <td>1383</td>\n",
       "      <td>...</td>\n",
       "      <td>190</td>\n",
       "      <td>696</td>\n",
       "      <td>886</td>\n",
       "      <td>371</td>\n",
       "      <td>81</td>\n",
       "      <td>280</td>\n",
       "      <td>297</td>\n",
       "      <td>216</td>\n",
       "      <td>2034</td>\n",
       "      <td>http://www.basketball-reference.com/teams/LAL/...</td>\n",
       "    </tr>\n",
       "    <tr>\n",
       "      <th>1</th>\n",
       "      <td>1980.0</td>\n",
       "      <td>Tom Abernethy</td>\n",
       "      <td>PF</td>\n",
       "      <td>25</td>\n",
       "      <td>GSW</td>\n",
       "      <td>67</td>\n",
       "      <td></td>\n",
       "      <td>1222</td>\n",
       "      <td>153</td>\n",
       "      <td>318</td>\n",
       "      <td>...</td>\n",
       "      <td>62</td>\n",
       "      <td>129</td>\n",
       "      <td>191</td>\n",
       "      <td>87</td>\n",
       "      <td>35</td>\n",
       "      <td>12</td>\n",
       "      <td>39</td>\n",
       "      <td>118</td>\n",
       "      <td>362</td>\n",
       "      <td>http://www.basketball-reference.com/teams/GSW/...</td>\n",
       "    </tr>\n",
       "    <tr>\n",
       "      <th>2</th>\n",
       "      <td>1980.0</td>\n",
       "      <td>Alvan Adams</td>\n",
       "      <td>C</td>\n",
       "      <td>25</td>\n",
       "      <td>PHO</td>\n",
       "      <td>75</td>\n",
       "      <td></td>\n",
       "      <td>2168</td>\n",
       "      <td>465</td>\n",
       "      <td>875</td>\n",
       "      <td>...</td>\n",
       "      <td>158</td>\n",
       "      <td>451</td>\n",
       "      <td>609</td>\n",
       "      <td>322</td>\n",
       "      <td>108</td>\n",
       "      <td>55</td>\n",
       "      <td>218</td>\n",
       "      <td>237</td>\n",
       "      <td>1118</td>\n",
       "      <td>http://www.basketball-reference.com/teams/PHO/...</td>\n",
       "    </tr>\n",
       "    <tr>\n",
       "      <th>3</th>\n",
       "      <td>1980.0</td>\n",
       "      <td>Tiny Archibald*</td>\n",
       "      <td>PG</td>\n",
       "      <td>31</td>\n",
       "      <td>BOS</td>\n",
       "      <td>80</td>\n",
       "      <td>80</td>\n",
       "      <td>2864</td>\n",
       "      <td>383</td>\n",
       "      <td>794</td>\n",
       "      <td>...</td>\n",
       "      <td>59</td>\n",
       "      <td>138</td>\n",
       "      <td>197</td>\n",
       "      <td>671</td>\n",
       "      <td>106</td>\n",
       "      <td>10</td>\n",
       "      <td>242</td>\n",
       "      <td>218</td>\n",
       "      <td>1131</td>\n",
       "      <td>http://www.basketball-reference.com/teams/BOS/...</td>\n",
       "    </tr>\n",
       "    <tr>\n",
       "      <th>4</th>\n",
       "      <td>1980.0</td>\n",
       "      <td>Dennis Awtrey</td>\n",
       "      <td>C</td>\n",
       "      <td>31</td>\n",
       "      <td>CHI</td>\n",
       "      <td>26</td>\n",
       "      <td></td>\n",
       "      <td>560</td>\n",
       "      <td>27</td>\n",
       "      <td>60</td>\n",
       "      <td>...</td>\n",
       "      <td>29</td>\n",
       "      <td>86</td>\n",
       "      <td>115</td>\n",
       "      <td>40</td>\n",
       "      <td>12</td>\n",
       "      <td>15</td>\n",
       "      <td>27</td>\n",
       "      <td>66</td>\n",
       "      <td>86</td>\n",
       "      <td>http://www.basketball-reference.com/teams/CHI/...</td>\n",
       "    </tr>\n",
       "  </tbody>\n",
       "</table>\n",
       "<p>5 rows × 31 columns</p>\n",
       "</div>"
      ],
      "text/plain": [
       "   season                Player Pos Age   Tm   G  GS    MP   FG   FGA  \\\n",
       "0  1980.0  Kareem Abdul-Jabbar*   C  32  LAL  82      3143  835  1383   \n",
       "1  1980.0         Tom Abernethy  PF  25  GSW  67      1222  153   318   \n",
       "2  1980.0           Alvan Adams   C  25  PHO  75      2168  465   875   \n",
       "3  1980.0       Tiny Archibald*  PG  31  BOS  80  80  2864  383   794   \n",
       "4  1980.0         Dennis Awtrey   C  31  CHI  26       560   27    60   \n",
       "\n",
       "                         ...                          ORB  DRB  TRB  AST  STL  \\\n",
       "0                        ...                          190  696  886  371   81   \n",
       "1                        ...                           62  129  191   87   35   \n",
       "2                        ...                          158  451  609  322  108   \n",
       "3                        ...                           59  138  197  671  106   \n",
       "4                        ...                           29   86  115   40   12   \n",
       "\n",
       "   BLK  TOV   PF   PTS                                          team_link  \n",
       "0  280  297  216  2034  http://www.basketball-reference.com/teams/LAL/...  \n",
       "1   12   39  118   362  http://www.basketball-reference.com/teams/GSW/...  \n",
       "2   55  218  237  1118  http://www.basketball-reference.com/teams/PHO/...  \n",
       "3   10  242  218  1131  http://www.basketball-reference.com/teams/BOS/...  \n",
       "4   15   27   66    86  http://www.basketball-reference.com/teams/CHI/...  \n",
       "\n",
       "[5 rows x 31 columns]"
      ]
     },
     "execution_count": 10,
     "metadata": {},
     "output_type": "execute_result"
    }
   ],
   "source": [
    "## check the number of rows in our dataframe\n",
    "print len(df)\n",
    "## examine the head, make sure everything looks right\n",
    "df.head()"
   ]
  },
  {
   "cell_type": "code",
   "execution_count": 11,
   "metadata": {
    "collapsed": false
   },
   "outputs": [
    {
     "data": {
      "text/plain": [
       "1044"
      ]
     },
     "execution_count": 11,
     "metadata": {},
     "output_type": "execute_result"
    }
   ],
   "source": [
    "## check the number of unique team links in the dataframe. This list of unique values will be what we scrape for our\n",
    "## team data\n",
    "len(df.team_link.unique())"
   ]
  },
  {
   "cell_type": "code",
   "execution_count": 12,
   "metadata": {
    "collapsed": false,
    "scrolled": false
   },
   "outputs": [],
   "source": [
    "test_list = [x.encode() for x in df.team_link.unique() if '1992' in x]"
   ]
  },
  {
   "cell_type": "code",
   "execution_count": 13,
   "metadata": {
    "collapsed": false
   },
   "outputs": [
    {
     "ename": "IndentationError",
     "evalue": "expected an indented block (<ipython-input-13-a07b63759d2f>, line 2)",
     "output_type": "error",
     "traceback": [
      "\u001b[0;36m  File \u001b[0;32m\"<ipython-input-13-a07b63759d2f>\"\u001b[0;36m, line \u001b[0;32m2\u001b[0m\n\u001b[0;31m    \u001b[0m\n\u001b[0m    ^\u001b[0m\n\u001b[0;31mIndentationError\u001b[0m\u001b[0;31m:\u001b[0m expected an indented block\n"
     ]
    }
   ],
   "source": [
    "def team_opp_stats(rows):\n",
    "    "
   ]
  },
  {
   "cell_type": "code",
   "execution_count": 50,
   "metadata": {
    "collapsed": false
   },
   "outputs": [],
   "source": [
    "def get_team_stats(df):\n",
    "    team_links = [x.encode() for x in df.team_link.unique()]\n",
    "    \n",
    "    for link in team_links[:1]:\n",
    "        print \"link is:       \\n\"+link+\"\\n\"\n",
    "        soup = get_soup(link)\n",
    "        print type(soup)\n",
    "#         table = soup.findAll('div', id='div_team_and_opponent')\n",
    "#         print table\n",
    "#         table=soup.findAll(\"table\")\n",
    "#         print table\n",
    "        table = soup.findAll('table',{'id': 'team_and_opponent'})\n",
    "        print table\n",
    "        rows = get_rows(table[1])\n",
    "        \n",
    "#         stats = team_opp_stats(rows)\n",
    "        \n",
    "        print rows\n"
   ]
  },
  {
   "cell_type": "code",
   "execution_count": 51,
   "metadata": {
    "collapsed": false,
    "scrolled": true
   },
   "outputs": [
    {
     "name": "stdout",
     "output_type": "stream",
     "text": [
      "link is:       \n",
      "http://www.basketball-reference.com/teams/LAL/1980.html\n",
      "\n",
      "<class 'bs4.BeautifulSoup'>\n",
      "[]\n"
     ]
    },
    {
     "ename": "IndexError",
     "evalue": "list index out of range",
     "output_type": "error",
     "traceback": [
      "\u001b[0;31m---------------------------------------------------------------------------\u001b[0m",
      "\u001b[0;31mIndexError\u001b[0m                                Traceback (most recent call last)",
      "\u001b[0;32m<ipython-input-51-d152715afbc4>\u001b[0m in \u001b[0;36m<module>\u001b[0;34m()\u001b[0m\n\u001b[0;32m----> 1\u001b[0;31m \u001b[0mget_team_stats\u001b[0m\u001b[0;34m(\u001b[0m\u001b[0mdf\u001b[0m\u001b[0;34m)\u001b[0m\u001b[0;34m\u001b[0m\u001b[0m\n\u001b[0m",
      "\u001b[0;32m<ipython-input-50-475d39be4a95>\u001b[0m in \u001b[0;36mget_team_stats\u001b[0;34m(df)\u001b[0m\n\u001b[1;32m     12\u001b[0m         \u001b[0mtable\u001b[0m \u001b[0;34m=\u001b[0m \u001b[0msoup\u001b[0m\u001b[0;34m.\u001b[0m\u001b[0mfindAll\u001b[0m\u001b[0;34m(\u001b[0m\u001b[0;34m'table'\u001b[0m\u001b[0;34m,\u001b[0m\u001b[0;34m{\u001b[0m\u001b[0;34m'id'\u001b[0m\u001b[0;34m:\u001b[0m \u001b[0;34m'team_and_opponent'\u001b[0m\u001b[0;34m}\u001b[0m\u001b[0;34m)\u001b[0m\u001b[0;34m\u001b[0m\u001b[0m\n\u001b[1;32m     13\u001b[0m         \u001b[0;32mprint\u001b[0m \u001b[0mtable\u001b[0m\u001b[0;34m\u001b[0m\u001b[0m\n\u001b[0;32m---> 14\u001b[0;31m         \u001b[0mrows\u001b[0m \u001b[0;34m=\u001b[0m \u001b[0mget_rows\u001b[0m\u001b[0;34m(\u001b[0m\u001b[0mtable\u001b[0m\u001b[0;34m[\u001b[0m\u001b[0;36m1\u001b[0m\u001b[0;34m]\u001b[0m\u001b[0;34m)\u001b[0m\u001b[0;34m\u001b[0m\u001b[0m\n\u001b[0m\u001b[1;32m     15\u001b[0m \u001b[0;34m\u001b[0m\u001b[0m\n\u001b[1;32m     16\u001b[0m \u001b[0;31m#         stats = team_opp_stats(rows)\u001b[0m\u001b[0;34m\u001b[0m\u001b[0;34m\u001b[0m\u001b[0m\n",
      "\u001b[0;31mIndexError\u001b[0m: list index out of range"
     ]
    }
   ],
   "source": [
    "get_team_stats(df)"
   ]
  },
  {
   "cell_type": "code",
   "execution_count": null,
   "metadata": {
    "collapsed": true
   },
   "outputs": [],
   "source": []
  },
  {
   "cell_type": "code",
   "execution_count": null,
   "metadata": {
    "collapsed": true
   },
   "outputs": [],
   "source": []
  },
  {
   "cell_type": "code",
   "execution_count": 34,
   "metadata": {
    "collapsed": true
   },
   "outputs": [],
   "source": [
    "##     INITIAL ATTEMPT AT COLLECTING TEAM STATISTICS AND ATTACHING TO A PLAYERS ROW\n",
    "##     THIS STRATEGY IS BEING REVISED\n",
    "\n",
    "def attach_team_stats(df):\n",
    "    for index, row in df.iterrows():\n",
    "        base_url = row['team_link']\n",
    "        soup = get_soup(base_url)\n",
    "        rows = get_rows(soup)\n",
    "        stats = strip_stats(rows)\n",
    "        stat_names = get_stat_names(soup)\n",
    "        \n",
    "        for stat, value in zip(stats, stat_names):\n",
    "            print \"stat is %r and value is %r\" % (stat, value)\n",
    "            row[stat] = value\n",
    "    return df\n",
    "        "
   ]
  },
  {
   "cell_type": "code",
   "execution_count": 35,
   "metadata": {
    "collapsed": false
   },
   "outputs": [
    {
     "name": "stdout",
     "output_type": "stream",
     "text": [
      "stat is [u'Kareem Abdul-Jabbar', u'C', u'7-2', u'225', u'April 16, 1947', u'us', u'10', u'University of California, Los Angeles'] and value is [u'No.', u'Player', u'Pos', u'Ht', u'Wt', u'Birth Date', u'\\xa0', u'Exp', u'College']\n"
     ]
    },
    {
     "ename": "ValueError",
     "evalue": "[u'Kareem Abdul-Jabbar' u'C' u'7-2' u'225' u'April 16, 1947' u'us' u'10'\n u'University of California, Los Angeles'] not contained in the index",
     "output_type": "error",
     "traceback": [
      "\u001b[0;31m---------------------------------------------------------------------------\u001b[0m",
      "\u001b[0;31mValueError\u001b[0m                                Traceback (most recent call last)",
      "\u001b[0;32m<ipython-input-35-8b7f5ba6c643>\u001b[0m in \u001b[0;36m<module>\u001b[0;34m()\u001b[0m\n\u001b[0;32m----> 1\u001b[0;31m \u001b[0mattach_team_stats\u001b[0m\u001b[0;34m(\u001b[0m\u001b[0mdf\u001b[0m\u001b[0;34m)\u001b[0m\u001b[0;34m\u001b[0m\u001b[0m\n\u001b[0m",
      "\u001b[0;32m<ipython-input-34-f467cd5cb3e8>\u001b[0m in \u001b[0;36mattach_team_stats\u001b[0;34m(df)\u001b[0m\n\u001b[1;32m     12\u001b[0m         \u001b[0;32mfor\u001b[0m \u001b[0mstat\u001b[0m\u001b[0;34m,\u001b[0m \u001b[0mvalue\u001b[0m \u001b[0;32min\u001b[0m \u001b[0mzip\u001b[0m\u001b[0;34m(\u001b[0m\u001b[0mstats\u001b[0m\u001b[0;34m,\u001b[0m \u001b[0mstat_names\u001b[0m\u001b[0;34m)\u001b[0m\u001b[0;34m:\u001b[0m\u001b[0;34m\u001b[0m\u001b[0m\n\u001b[1;32m     13\u001b[0m             \u001b[0;32mprint\u001b[0m \u001b[0;34m\"stat is %r and value is %r\"\u001b[0m \u001b[0;34m%\u001b[0m \u001b[0;34m(\u001b[0m\u001b[0mstat\u001b[0m\u001b[0;34m,\u001b[0m \u001b[0mvalue\u001b[0m\u001b[0;34m)\u001b[0m\u001b[0;34m\u001b[0m\u001b[0m\n\u001b[0;32m---> 14\u001b[0;31m             \u001b[0mrow\u001b[0m\u001b[0;34m[\u001b[0m\u001b[0mstat\u001b[0m\u001b[0;34m]\u001b[0m \u001b[0;34m=\u001b[0m \u001b[0mvalue\u001b[0m\u001b[0;34m\u001b[0m\u001b[0m\n\u001b[0m\u001b[1;32m     15\u001b[0m     \u001b[0;32mreturn\u001b[0m \u001b[0mdf\u001b[0m\u001b[0;34m\u001b[0m\u001b[0m\n\u001b[1;32m     16\u001b[0m \u001b[0;34m\u001b[0m\u001b[0m\n",
      "\u001b[0;32m/Users/TerryONeill/anaconda/lib/python2.7/site-packages/pandas/core/series.pyc\u001b[0m in \u001b[0;36m__setitem__\u001b[0;34m(self, key, value)\u001b[0m\n\u001b[1;32m    726\u001b[0m         \u001b[0;31m# do the setitem\u001b[0m\u001b[0;34m\u001b[0m\u001b[0;34m\u001b[0m\u001b[0m\n\u001b[1;32m    727\u001b[0m         \u001b[0mcacher_needs_updating\u001b[0m \u001b[0;34m=\u001b[0m \u001b[0mself\u001b[0m\u001b[0;34m.\u001b[0m\u001b[0m_check_is_chained_assignment_possible\u001b[0m\u001b[0;34m(\u001b[0m\u001b[0;34m)\u001b[0m\u001b[0;34m\u001b[0m\u001b[0m\n\u001b[0;32m--> 728\u001b[0;31m         \u001b[0msetitem\u001b[0m\u001b[0;34m(\u001b[0m\u001b[0mkey\u001b[0m\u001b[0;34m,\u001b[0m \u001b[0mvalue\u001b[0m\u001b[0;34m)\u001b[0m\u001b[0;34m\u001b[0m\u001b[0m\n\u001b[0m\u001b[1;32m    729\u001b[0m         \u001b[0;32mif\u001b[0m \u001b[0mcacher_needs_updating\u001b[0m\u001b[0;34m:\u001b[0m\u001b[0;34m\u001b[0m\u001b[0m\n\u001b[1;32m    730\u001b[0m             \u001b[0mself\u001b[0m\u001b[0;34m.\u001b[0m\u001b[0m_maybe_update_cacher\u001b[0m\u001b[0;34m(\u001b[0m\u001b[0;34m)\u001b[0m\u001b[0;34m\u001b[0m\u001b[0m\n",
      "\u001b[0;32m/Users/TerryONeill/anaconda/lib/python2.7/site-packages/pandas/core/series.pyc\u001b[0m in \u001b[0;36msetitem\u001b[0;34m(key, value)\u001b[0m\n\u001b[1;32m    722\u001b[0m                     \u001b[0;32mpass\u001b[0m\u001b[0;34m\u001b[0m\u001b[0m\n\u001b[1;32m    723\u001b[0m \u001b[0;34m\u001b[0m\u001b[0m\n\u001b[0;32m--> 724\u001b[0;31m             \u001b[0mself\u001b[0m\u001b[0;34m.\u001b[0m\u001b[0m_set_with\u001b[0m\u001b[0;34m(\u001b[0m\u001b[0mkey\u001b[0m\u001b[0;34m,\u001b[0m \u001b[0mvalue\u001b[0m\u001b[0;34m)\u001b[0m\u001b[0;34m\u001b[0m\u001b[0m\n\u001b[0m\u001b[1;32m    725\u001b[0m \u001b[0;34m\u001b[0m\u001b[0m\n\u001b[1;32m    726\u001b[0m         \u001b[0;31m# do the setitem\u001b[0m\u001b[0;34m\u001b[0m\u001b[0;34m\u001b[0m\u001b[0m\n",
      "\u001b[0;32m/Users/TerryONeill/anaconda/lib/python2.7/site-packages/pandas/core/series.pyc\u001b[0m in \u001b[0;36m_set_with\u001b[0;34m(self, key, value)\u001b[0m\n\u001b[1;32m    770\u001b[0m                 \u001b[0mself\u001b[0m\u001b[0;34m.\u001b[0m\u001b[0m_set_values\u001b[0m\u001b[0;34m(\u001b[0m\u001b[0mkey\u001b[0m\u001b[0;34m.\u001b[0m\u001b[0mastype\u001b[0m\u001b[0;34m(\u001b[0m\u001b[0mnp\u001b[0m\u001b[0;34m.\u001b[0m\u001b[0mbool_\u001b[0m\u001b[0;34m)\u001b[0m\u001b[0;34m,\u001b[0m \u001b[0mvalue\u001b[0m\u001b[0;34m)\u001b[0m\u001b[0;34m\u001b[0m\u001b[0m\n\u001b[1;32m    771\u001b[0m             \u001b[0;32melse\u001b[0m\u001b[0;34m:\u001b[0m\u001b[0;34m\u001b[0m\u001b[0m\n\u001b[0;32m--> 772\u001b[0;31m                 \u001b[0mself\u001b[0m\u001b[0;34m.\u001b[0m\u001b[0m_set_labels\u001b[0m\u001b[0;34m(\u001b[0m\u001b[0mkey\u001b[0m\u001b[0;34m,\u001b[0m \u001b[0mvalue\u001b[0m\u001b[0;34m)\u001b[0m\u001b[0;34m\u001b[0m\u001b[0m\n\u001b[0m\u001b[1;32m    773\u001b[0m \u001b[0;34m\u001b[0m\u001b[0m\n\u001b[1;32m    774\u001b[0m     \u001b[0;32mdef\u001b[0m \u001b[0m_set_labels\u001b[0m\u001b[0;34m(\u001b[0m\u001b[0mself\u001b[0m\u001b[0;34m,\u001b[0m \u001b[0mkey\u001b[0m\u001b[0;34m,\u001b[0m \u001b[0mvalue\u001b[0m\u001b[0;34m)\u001b[0m\u001b[0;34m:\u001b[0m\u001b[0;34m\u001b[0m\u001b[0m\n",
      "\u001b[0;32m/Users/TerryONeill/anaconda/lib/python2.7/site-packages/pandas/core/series.pyc\u001b[0m in \u001b[0;36m_set_labels\u001b[0;34m(self, key, value)\u001b[0m\n\u001b[1;32m    780\u001b[0m         \u001b[0mmask\u001b[0m \u001b[0;34m=\u001b[0m \u001b[0mindexer\u001b[0m \u001b[0;34m==\u001b[0m \u001b[0;34m-\u001b[0m\u001b[0;36m1\u001b[0m\u001b[0;34m\u001b[0m\u001b[0m\n\u001b[1;32m    781\u001b[0m         \u001b[0;32mif\u001b[0m \u001b[0mmask\u001b[0m\u001b[0;34m.\u001b[0m\u001b[0many\u001b[0m\u001b[0;34m(\u001b[0m\u001b[0;34m)\u001b[0m\u001b[0;34m:\u001b[0m\u001b[0;34m\u001b[0m\u001b[0m\n\u001b[0;32m--> 782\u001b[0;31m             \u001b[0;32mraise\u001b[0m \u001b[0mValueError\u001b[0m\u001b[0;34m(\u001b[0m\u001b[0;34m'%s not contained in the index'\u001b[0m \u001b[0;34m%\u001b[0m \u001b[0mstr\u001b[0m\u001b[0;34m(\u001b[0m\u001b[0mkey\u001b[0m\u001b[0;34m[\u001b[0m\u001b[0mmask\u001b[0m\u001b[0;34m]\u001b[0m\u001b[0;34m)\u001b[0m\u001b[0;34m)\u001b[0m\u001b[0;34m\u001b[0m\u001b[0m\n\u001b[0m\u001b[1;32m    783\u001b[0m         \u001b[0mself\u001b[0m\u001b[0;34m.\u001b[0m\u001b[0m_set_values\u001b[0m\u001b[0;34m(\u001b[0m\u001b[0mindexer\u001b[0m\u001b[0;34m,\u001b[0m \u001b[0mvalue\u001b[0m\u001b[0;34m)\u001b[0m\u001b[0;34m\u001b[0m\u001b[0m\n\u001b[1;32m    784\u001b[0m \u001b[0;34m\u001b[0m\u001b[0m\n",
      "\u001b[0;31mValueError\u001b[0m: [u'Kareem Abdul-Jabbar' u'C' u'7-2' u'225' u'April 16, 1947' u'us' u'10'\n u'University of California, Los Angeles'] not contained in the index"
     ]
    }
   ],
   "source": [
    "attach_team_stats(df)"
   ]
  },
  {
   "cell_type": "code",
   "execution_count": 41,
   "metadata": {
    "collapsed": false,
    "scrolled": false
   },
   "outputs": [],
   "source": []
  },
  {
   "cell_type": "code",
   "execution_count": null,
   "metadata": {
    "collapsed": true
   },
   "outputs": [],
   "source": []
  },
  {
   "cell_type": "code",
   "execution_count": null,
   "metadata": {
    "collapsed": true
   },
   "outputs": [],
   "source": []
  },
  {
   "cell_type": "code",
   "execution_count": null,
   "metadata": {
    "collapsed": true
   },
   "outputs": [],
   "source": []
  },
  {
   "cell_type": "code",
   "execution_count": null,
   "metadata": {
    "collapsed": true
   },
   "outputs": [],
   "source": []
  },
  {
   "cell_type": "code",
   "execution_count": null,
   "metadata": {
    "collapsed": true
   },
   "outputs": [],
   "source": []
  },
  {
   "cell_type": "code",
   "execution_count": null,
   "metadata": {
    "collapsed": false
   },
   "outputs": [],
   "source": []
  },
  {
   "cell_type": "code",
   "execution_count": null,
   "metadata": {
    "collapsed": false
   },
   "outputs": [],
   "source": []
  },
  {
   "cell_type": "code",
   "execution_count": null,
   "metadata": {
    "collapsed": false
   },
   "outputs": [],
   "source": []
  },
  {
   "cell_type": "code",
   "execution_count": null,
   "metadata": {
    "collapsed": false
   },
   "outputs": [],
   "source": []
  },
  {
   "cell_type": "code",
   "execution_count": null,
   "metadata": {
    "collapsed": true
   },
   "outputs": [],
   "source": []
  },
  {
   "cell_type": "code",
   "execution_count": null,
   "metadata": {
    "collapsed": false
   },
   "outputs": [],
   "source": []
  },
  {
   "cell_type": "code",
   "execution_count": null,
   "metadata": {
    "collapsed": false,
    "scrolled": false
   },
   "outputs": [],
   "source": []
  },
  {
   "cell_type": "code",
   "execution_count": null,
   "metadata": {
    "collapsed": false
   },
   "outputs": [],
   "source": []
  },
  {
   "cell_type": "code",
   "execution_count": null,
   "metadata": {
    "collapsed": true
   },
   "outputs": [],
   "source": []
  }
 ],
 "metadata": {
  "kernelspec": {
   "display_name": "Python 2",
   "language": "python",
   "name": "python2"
  },
  "language_info": {
   "codemirror_mode": {
    "name": "ipython",
    "version": 2
   },
   "file_extension": ".py",
   "mimetype": "text/x-python",
   "name": "python",
   "nbconvert_exporter": "python",
   "pygments_lexer": "ipython2",
   "version": "2.7.13"
  }
 },
 "nbformat": 4,
 "nbformat_minor": 0
}
